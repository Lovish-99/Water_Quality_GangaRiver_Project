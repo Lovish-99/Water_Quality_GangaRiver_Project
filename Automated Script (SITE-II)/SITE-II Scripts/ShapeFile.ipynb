{
  "nbformat": 4,
  "nbformat_minor": 0,
  "metadata": {
    "colab": {
      "name": "Untitled0.ipynb",
      "provenance": []
    },
    "kernelspec": {
      "name": "python3",
      "display_name": "Python 3"
    },
    "language_info": {
      "name": "python"
    }
  },
  "cells": [
    {
      "cell_type": "code",
      "metadata": {
        "colab": {
          "base_uri": "https://localhost:8080/"
        },
        "id": "BxHBe8Q8Pq0r",
        "outputId": "a8d11c5b-5454-4095-aa97-9175c676d998"
      },
      "source": [
        "!pip install geopandas"
      ],
      "execution_count": 2,
      "outputs": [
        {
          "output_type": "stream",
          "text": [
            "Collecting geopandas\n",
            "  Downloading geopandas-0.9.0-py2.py3-none-any.whl (994 kB)\n",
            "\u001b[?25l\r\u001b[K     |▎                               | 10 kB 24.2 MB/s eta 0:00:01\r\u001b[K     |▋                               | 20 kB 29.8 MB/s eta 0:00:01\r\u001b[K     |█                               | 30 kB 31.7 MB/s eta 0:00:01\r\u001b[K     |█▎                              | 40 kB 34.0 MB/s eta 0:00:01\r\u001b[K     |█▋                              | 51 kB 22.2 MB/s eta 0:00:01\r\u001b[K     |██                              | 61 kB 23.3 MB/s eta 0:00:01\r\u001b[K     |██▎                             | 71 kB 23.6 MB/s eta 0:00:01\r\u001b[K     |██▋                             | 81 kB 24.0 MB/s eta 0:00:01\r\u001b[K     |███                             | 92 kB 24.0 MB/s eta 0:00:01\r\u001b[K     |███▎                            | 102 kB 25.4 MB/s eta 0:00:01\r\u001b[K     |███▋                            | 112 kB 25.4 MB/s eta 0:00:01\r\u001b[K     |████                            | 122 kB 25.4 MB/s eta 0:00:01\r\u001b[K     |████▎                           | 133 kB 25.4 MB/s eta 0:00:01\r\u001b[K     |████▋                           | 143 kB 25.4 MB/s eta 0:00:01\r\u001b[K     |█████                           | 153 kB 25.4 MB/s eta 0:00:01\r\u001b[K     |█████▎                          | 163 kB 25.4 MB/s eta 0:00:01\r\u001b[K     |█████▋                          | 174 kB 25.4 MB/s eta 0:00:01\r\u001b[K     |██████                          | 184 kB 25.4 MB/s eta 0:00:01\r\u001b[K     |██████▎                         | 194 kB 25.4 MB/s eta 0:00:01\r\u001b[K     |██████▋                         | 204 kB 25.4 MB/s eta 0:00:01\r\u001b[K     |███████                         | 215 kB 25.4 MB/s eta 0:00:01\r\u001b[K     |███████▎                        | 225 kB 25.4 MB/s eta 0:00:01\r\u001b[K     |███████▋                        | 235 kB 25.4 MB/s eta 0:00:01\r\u001b[K     |████████                        | 245 kB 25.4 MB/s eta 0:00:01\r\u001b[K     |████████▎                       | 256 kB 25.4 MB/s eta 0:00:01\r\u001b[K     |████████▋                       | 266 kB 25.4 MB/s eta 0:00:01\r\u001b[K     |█████████                       | 276 kB 25.4 MB/s eta 0:00:01\r\u001b[K     |█████████▎                      | 286 kB 25.4 MB/s eta 0:00:01\r\u001b[K     |█████████▌                      | 296 kB 25.4 MB/s eta 0:00:01\r\u001b[K     |█████████▉                      | 307 kB 25.4 MB/s eta 0:00:01\r\u001b[K     |██████████▏                     | 317 kB 25.4 MB/s eta 0:00:01\r\u001b[K     |██████████▌                     | 327 kB 25.4 MB/s eta 0:00:01\r\u001b[K     |██████████▉                     | 337 kB 25.4 MB/s eta 0:00:01\r\u001b[K     |███████████▏                    | 348 kB 25.4 MB/s eta 0:00:01\r\u001b[K     |███████████▌                    | 358 kB 25.4 MB/s eta 0:00:01\r\u001b[K     |███████████▉                    | 368 kB 25.4 MB/s eta 0:00:01\r\u001b[K     |████████████▏                   | 378 kB 25.4 MB/s eta 0:00:01\r\u001b[K     |████████████▌                   | 389 kB 25.4 MB/s eta 0:00:01\r\u001b[K     |████████████▉                   | 399 kB 25.4 MB/s eta 0:00:01\r\u001b[K     |█████████████▏                  | 409 kB 25.4 MB/s eta 0:00:01\r\u001b[K     |█████████████▌                  | 419 kB 25.4 MB/s eta 0:00:01\r\u001b[K     |█████████████▉                  | 430 kB 25.4 MB/s eta 0:00:01\r\u001b[K     |██████████████▏                 | 440 kB 25.4 MB/s eta 0:00:01\r\u001b[K     |██████████████▌                 | 450 kB 25.4 MB/s eta 0:00:01\r\u001b[K     |██████████████▉                 | 460 kB 25.4 MB/s eta 0:00:01\r\u001b[K     |███████████████▏                | 471 kB 25.4 MB/s eta 0:00:01\r\u001b[K     |███████████████▌                | 481 kB 25.4 MB/s eta 0:00:01\r\u001b[K     |███████████████▉                | 491 kB 25.4 MB/s eta 0:00:01\r\u001b[K     |████████████████▏               | 501 kB 25.4 MB/s eta 0:00:01\r\u001b[K     |████████████████▌               | 512 kB 25.4 MB/s eta 0:00:01\r\u001b[K     |████████████████▉               | 522 kB 25.4 MB/s eta 0:00:01\r\u001b[K     |█████████████████▏              | 532 kB 25.4 MB/s eta 0:00:01\r\u001b[K     |█████████████████▌              | 542 kB 25.4 MB/s eta 0:00:01\r\u001b[K     |█████████████████▉              | 552 kB 25.4 MB/s eta 0:00:01\r\u001b[K     |██████████████████▏             | 563 kB 25.4 MB/s eta 0:00:01\r\u001b[K     |██████████████████▌             | 573 kB 25.4 MB/s eta 0:00:01\r\u001b[K     |██████████████████▊             | 583 kB 25.4 MB/s eta 0:00:01\r\u001b[K     |███████████████████             | 593 kB 25.4 MB/s eta 0:00:01\r\u001b[K     |███████████████████▍            | 604 kB 25.4 MB/s eta 0:00:01\r\u001b[K     |███████████████████▊            | 614 kB 25.4 MB/s eta 0:00:01\r\u001b[K     |████████████████████            | 624 kB 25.4 MB/s eta 0:00:01\r\u001b[K     |████████████████████▍           | 634 kB 25.4 MB/s eta 0:00:01\r\u001b[K     |████████████████████▊           | 645 kB 25.4 MB/s eta 0:00:01\r\u001b[K     |█████████████████████           | 655 kB 25.4 MB/s eta 0:00:01\r\u001b[K     |█████████████████████▍          | 665 kB 25.4 MB/s eta 0:00:01\r\u001b[K     |█████████████████████▊          | 675 kB 25.4 MB/s eta 0:00:01\r\u001b[K     |██████████████████████          | 686 kB 25.4 MB/s eta 0:00:01\r\u001b[K     |██████████████████████▍         | 696 kB 25.4 MB/s eta 0:00:01\r\u001b[K     |██████████████████████▊         | 706 kB 25.4 MB/s eta 0:00:01\r\u001b[K     |███████████████████████         | 716 kB 25.4 MB/s eta 0:00:01\r\u001b[K     |███████████████████████▍        | 727 kB 25.4 MB/s eta 0:00:01\r\u001b[K     |███████████████████████▊        | 737 kB 25.4 MB/s eta 0:00:01\r\u001b[K     |████████████████████████        | 747 kB 25.4 MB/s eta 0:00:01\r\u001b[K     |████████████████████████▍       | 757 kB 25.4 MB/s eta 0:00:01\r\u001b[K     |████████████████████████▊       | 768 kB 25.4 MB/s eta 0:00:01\r\u001b[K     |█████████████████████████       | 778 kB 25.4 MB/s eta 0:00:01\r\u001b[K     |█████████████████████████▍      | 788 kB 25.4 MB/s eta 0:00:01\r\u001b[K     |█████████████████████████▊      | 798 kB 25.4 MB/s eta 0:00:01\r\u001b[K     |██████████████████████████      | 808 kB 25.4 MB/s eta 0:00:01\r\u001b[K     |██████████████████████████▍     | 819 kB 25.4 MB/s eta 0:00:01\r\u001b[K     |██████████████████████████▊     | 829 kB 25.4 MB/s eta 0:00:01\r\u001b[K     |███████████████████████████     | 839 kB 25.4 MB/s eta 0:00:01\r\u001b[K     |███████████████████████████▍    | 849 kB 25.4 MB/s eta 0:00:01\r\u001b[K     |███████████████████████████▊    | 860 kB 25.4 MB/s eta 0:00:01\r\u001b[K     |████████████████████████████    | 870 kB 25.4 MB/s eta 0:00:01\r\u001b[K     |████████████████████████████▎   | 880 kB 25.4 MB/s eta 0:00:01\r\u001b[K     |████████████████████████████▋   | 890 kB 25.4 MB/s eta 0:00:01\r\u001b[K     |█████████████████████████████   | 901 kB 25.4 MB/s eta 0:00:01\r\u001b[K     |█████████████████████████████▎  | 911 kB 25.4 MB/s eta 0:00:01\r\u001b[K     |█████████████████████████████▋  | 921 kB 25.4 MB/s eta 0:00:01\r\u001b[K     |██████████████████████████████  | 931 kB 25.4 MB/s eta 0:00:01\r\u001b[K     |██████████████████████████████▎ | 942 kB 25.4 MB/s eta 0:00:01\r\u001b[K     |██████████████████████████████▋ | 952 kB 25.4 MB/s eta 0:00:01\r\u001b[K     |███████████████████████████████ | 962 kB 25.4 MB/s eta 0:00:01\r\u001b[K     |███████████████████████████████▎| 972 kB 25.4 MB/s eta 0:00:01\r\u001b[K     |███████████████████████████████▋| 983 kB 25.4 MB/s eta 0:00:01\r\u001b[K     |████████████████████████████████| 993 kB 25.4 MB/s eta 0:00:01\r\u001b[K     |████████████████████████████████| 994 kB 25.4 MB/s \n",
            "\u001b[?25hRequirement already satisfied: pandas>=0.24.0 in /usr/local/lib/python3.7/dist-packages (from geopandas) (1.1.5)\n",
            "Collecting fiona>=1.8\n",
            "  Downloading Fiona-1.8.20-cp37-cp37m-manylinux1_x86_64.whl (15.4 MB)\n",
            "\u001b[K     |████████████████████████████████| 15.4 MB 36 kB/s \n",
            "\u001b[?25hRequirement already satisfied: shapely>=1.6 in /usr/local/lib/python3.7/dist-packages (from geopandas) (1.7.1)\n",
            "Collecting pyproj>=2.2.0\n",
            "  Downloading pyproj-3.1.0-cp37-cp37m-manylinux2010_x86_64.whl (6.6 MB)\n",
            "\u001b[K     |████████████████████████████████| 6.6 MB 37.9 MB/s \n",
            "\u001b[?25hRequirement already satisfied: six>=1.7 in /usr/local/lib/python3.7/dist-packages (from fiona>=1.8->geopandas) (1.15.0)\n",
            "Collecting cligj>=0.5\n",
            "  Downloading cligj-0.7.2-py3-none-any.whl (7.1 kB)\n",
            "Requirement already satisfied: click>=4.0 in /usr/local/lib/python3.7/dist-packages (from fiona>=1.8->geopandas) (7.1.2)\n",
            "Collecting munch\n",
            "  Downloading munch-2.5.0-py2.py3-none-any.whl (10 kB)\n",
            "Collecting click-plugins>=1.0\n",
            "  Downloading click_plugins-1.1.1-py2.py3-none-any.whl (7.5 kB)\n",
            "Requirement already satisfied: attrs>=17 in /usr/local/lib/python3.7/dist-packages (from fiona>=1.8->geopandas) (21.2.0)\n",
            "Requirement already satisfied: setuptools in /usr/local/lib/python3.7/dist-packages (from fiona>=1.8->geopandas) (57.2.0)\n",
            "Requirement already satisfied: certifi in /usr/local/lib/python3.7/dist-packages (from fiona>=1.8->geopandas) (2021.5.30)\n",
            "Requirement already satisfied: python-dateutil>=2.7.3 in /usr/local/lib/python3.7/dist-packages (from pandas>=0.24.0->geopandas) (2.8.1)\n",
            "Requirement already satisfied: numpy>=1.15.4 in /usr/local/lib/python3.7/dist-packages (from pandas>=0.24.0->geopandas) (1.19.5)\n",
            "Requirement already satisfied: pytz>=2017.2 in /usr/local/lib/python3.7/dist-packages (from pandas>=0.24.0->geopandas) (2018.9)\n",
            "Installing collected packages: munch, cligj, click-plugins, pyproj, fiona, geopandas\n",
            "Successfully installed click-plugins-1.1.1 cligj-0.7.2 fiona-1.8.20 geopandas-0.9.0 munch-2.5.0 pyproj-3.1.0\n"
          ],
          "name": "stdout"
        }
      ]
    },
    {
      "cell_type": "code",
      "metadata": {
        "colab": {
          "base_uri": "https://localhost:8080/",
          "height": 512
        },
        "id": "51ETtfx_Px5D",
        "outputId": "160a7d49-ca64-4300-faf7-892c66ab6f19"
      },
      "source": [
        "#importing the modules and libraries\n",
        "import pandas as pd \n",
        "import geopandas as gpd\n",
        "\n",
        "# read the csv file using Pandas \n",
        "loc_data = pd.read_csv(\"/content/drive/MyDrive/Location's.csv\")\n",
        "\n",
        "# creating GeoPandas GeoDataFrame using the Pandas Dataframe \n",
        "loc_gdf = gpd.GeoDataFrame(loc_data, geometry = gpd.points_from_xy(loc_data['Longitude'],loc_data['Latitude'] ))\n",
        "\n",
        "#changing the marker size and plot size\n",
        "loc_gdf.plot(markersize = 1.5, figsize = (10,10))\n",
        "\n",
        "# obtain the ESRI WKT\n",
        "ESRI_WKT = 'GEOGCS[\"GCS_WGS_1984\",DATUM[\"D_WGS_1984\",SPHEROID[\"WGS_1984\",6378137,298.257223563]],PRIMEM[\"Greenwich\",0],UNIT[\"Degree\",0.017453292519943295]]'\n",
        "\n",
        "#genrate the file as an Shapefile\n",
        "loc_gdf.to_file(filename = 'loc.shp', driver = 'ESRI Shapefile', crs = ESRI_WKT)"
      ],
      "execution_count": 3,
      "outputs": [
        {
          "output_type": "stream",
          "text": [
            "/usr/local/lib/python3.7/dist-packages/ipykernel_launcher.py:18: UserWarning: Column names longer than 10 characters will be truncated when saved to ESRI Shapefile.\n"
          ],
          "name": "stderr"
        },
        {
          "output_type": "display_data",
          "data": {
            "image/png": "[encoded data removed]",
            "text/plain": [
              "<Figure size 720x720 with 1 Axes>"
            ]
          },
          "metadata": {
            "tags": [],
            "needs_background": "light"
          }
        }
      ]
    }
  ]
}